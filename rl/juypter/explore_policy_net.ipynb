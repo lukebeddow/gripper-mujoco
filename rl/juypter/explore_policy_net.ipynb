{
 "cells": [
  {
   "cell_type": "code",
   "execution_count": 20,
   "metadata": {},
   "outputs": [],
   "source": [
    "import pickle\n",
    "import numpy as np\n",
    "import torch\n",
    "\n",
    "# insert the path to the 'networks.py' file\n",
    "import sys\n",
    "sys.path.insert(0, \"/home/luke/mymujoco/rl/\")\n",
    "import networks"
   ]
  },
  {
   "cell_type": "code",
   "execution_count": 9,
   "metadata": {},
   "outputs": [],
   "source": [
    "filepath = \"/home/luke/mymujoco/rl/models/paper_baseline_4/07-03-23/luke-PC_13:37_A10/\"\n",
    "filename = \"DQN_150x100x50_policy_net_001.pickle\"\n",
    "\n",
    "with open(filepath + filename, 'rb') as f:\n",
    "  loaded_network = pickle.load(f)"
   ]
  },
  {
   "cell_type": "code",
   "execution_count": 47,
   "metadata": {},
   "outputs": [
    {
     "name": "stdout",
     "output_type": "stream",
     "text": [
      "[[-0.61787562 -0.94073609  0.03166923 -0.7079431   0.33917209  0.55970318\n",
      "  -0.71272315  0.39500408  0.16143928 -0.98320414 -0.29304594  0.08019227\n",
      "  -0.31357218 -0.11360578  0.59223452 -0.58075262  0.45089215 -0.7680106\n",
      "  -0.0413638  -0.80830399  0.49493504 -0.16220988 -0.46356009  0.83005717\n",
      "   0.81971388 -0.27010761 -0.80884322  0.98472305 -0.75593761 -0.26230838\n",
      "  -0.77631088  0.92367255  0.71301499 -0.45417705  0.12526529 -0.91493138\n",
      "   0.3928103  -0.18362171 -0.03480841 -0.09075251  0.5743666   0.5820564\n",
      "   0.49736643  0.88740174 -0.93908319 -0.83135959  0.73986872  0.78408892\n",
      "   0.34748686  0.04207258  0.07864777 -0.23729045 -0.91806079 -0.88801257\n",
      "  -0.11574382 -0.95400668  0.30324101  0.93010949  0.36115624]]\n",
      "Action number is: 0, this means X_close\n"
     ]
    }
   ],
   "source": [
    "n_inputs = 59\n",
    "n_outputs = 8\n",
    "\n",
    "# what are the actions? X=gripper prismatic joint, Y=gripper revolute joint, Z=gripper palm, H=gripper height\n",
    "action_names = [\"X_close\", \"X_open\", \"Y_close\", \"Y_open\", \"Z_close\", \"Z_open\", \"H_down\", \"H_up\"]\n",
    "\n",
    "# lets do an example state vector\n",
    "state = 2 * np.random.rand((n_inputs)) - 1                   # get random vector of numbers from [-1, 1]\n",
    "state = np.array([state])                                    # state vectors must be [nested] once and must be Floats\n",
    "state_tensor = torch.tensor(state, dtype=torch.float32)      # convert to pytorch and change double->float\n",
    "\n",
    "with torch.no_grad():\n",
    "  # t.max(1) returns largest column value of each row\n",
    "  # [1] is second column of max result, the index of max element\n",
    "  # view(1, 1) selects this element which has max expected reward\n",
    "  action = loaded_network(state_tensor).max(1)[1].view(1, 1)\n",
    "\n",
    "# extract the chosen action, which are numbered 0-7\n",
    "print(f\"Action number is: {action.item()}, this means {action_names[action]}\")"
   ]
  }
 ],
 "metadata": {
  "kernelspec": {
   "display_name": "Python 3",
   "language": "python",
   "name": "python3"
  },
  "language_info": {
   "codemirror_mode": {
    "name": "ipython",
    "version": 3
   },
   "file_extension": ".py",
   "mimetype": "text/x-python",
   "name": "python",
   "nbconvert_exporter": "python",
   "pygments_lexer": "ipython3",
   "version": "3.6.9"
  },
  "orig_nbformat": 4,
  "vscode": {
   "interpreter": {
    "hash": "31f2aee4e71d21fbe5cf8b01ff0e069b9275f58929596ceb00d14d90e3e16cd6"
   }
  }
 },
 "nbformat": 4,
 "nbformat_minor": 2
}
